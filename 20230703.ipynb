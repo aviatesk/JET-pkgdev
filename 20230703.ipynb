{
 "cells": [
  {
   "cell_type": "code",
   "execution_count": null,
   "metadata": {},
   "outputs": [],
   "source": [
    "using InteractiveUtils, Pkg, Test\n",
    "\n",
    "Base.banner()\n",
    "\n",
    "Pkg.activate(@__DIR__)\n",
    "Pkg.status()\n",
    "\n",
    "using JET"
   ]
  },
  {
   "attachments": {},
   "cell_type": "markdown",
   "metadata": {},
   "source": [
    "# Basic Usage\n",
    "\n",
    "- Interactive entry point: `[@]report_call`, `[@]report_opt`\n",
    "  - `report_call` for detecting bugs\n",
    "  - `report_opt` for detecting performance problems\n",
    "- Works like `[@]code_typed`"
   ]
  },
  {
   "cell_type": "code",
   "execution_count": null,
   "metadata": {},
   "outputs": [],
   "source": [
    "report_call(sum, (Vector{Int},))"
   ]
  },
  {
   "cell_type": "code",
   "execution_count": null,
   "metadata": {},
   "outputs": [],
   "source": [
    "@report_call sum(\"julia\")"
   ]
  },
  {
   "attachments": {},
   "cell_type": "markdown",
   "metadata": {},
   "source": [
    "# Notable features for package development\n",
    "\n",
    "- Test.jl integration\n",
    "- `report_package`\n",
    "- Various configurations\n",
    "  * Typo detection mode\n",
    "  * Report filters"
   ]
  },
  {
   "attachments": {},
   "cell_type": "markdown",
   "metadata": {},
   "source": [
    "# Test.jl integration\n",
    "\n",
    "JET provides smooth integration with Test.jl:\n",
    "- Allows users to use JET in their test suite\n",
    "  - `[@]report_call`, `[@]report_opt` <-> `[@]test_call`, `[@]test_opt`\n",
    "  - `report_package`, `report_file` <-> `test_package`, `test_file`\n",
    "- Results are included in the test set summary\n",
    "- Also supports Test.jl features like `broken` and `skip`\n",
    "\n",
    "Packages using JET in CI include: JET, Graphs.jl, CliMA ecosystem"
   ]
  },
  {
   "cell_type": "code",
   "execution_count": null,
   "metadata": {},
   "outputs": [],
   "source": [
    "function test_func(a)\n",
    "    return a + 1\n",
    "end\n",
    "\n",
    "@test_call test_func(\"julia\")"
   ]
  },
  {
   "cell_type": "code",
   "execution_count": null,
   "metadata": {},
   "outputs": [],
   "source": [
    "@testset \"JET code quality test\" begin\n",
    "    @test_call test_func(\"julia\")\n",
    "    @test_call test_func(1)\n",
    "end"
   ]
  },
  {
   "cell_type": "code",
   "execution_count": null,
   "metadata": {},
   "outputs": [],
   "source": [
    "@testset \"JET code quality test\" begin\n",
    "    @test_call skip=true test_func(\"julia\")\n",
    "    @test_call test_func(1)\n",
    "end"
   ]
  },
  {
   "attachments": {},
   "cell_type": "markdown",
   "metadata": {},
   "source": [
    "# `report_package`\n",
    "\n",
    "- An easy analysis entry point at the cost of analysis accuracy\n",
    "- Improved affinity with Pkg.jl system\n",
    "  * No need to instantiate/activate a target package environment beforehand\n",
    "- `target_defined_modules` configuration\n",
    "  * Allows you to focus on your code"
   ]
  },
  {
   "cell_type": "code",
   "execution_count": 14,
   "metadata": {},
   "outputs": [
    {
     "name": "stdout",
     "output_type": "stream",
     "text": [
      "[toplevel-info] virtualized the context of Main (took 0.001 sec)\n",
      "[toplevel-info] entered into /Users/aviatesk/julia/JET-20230703/Demo1/src/Demo1.jl\n",
      "[toplevel-info]  exited from /Users/aviatesk/julia/JET-20230703/Demo1/src/Demo1.jl (took 0.002 sec)\n",
      "\r[toplevel-info] analyzing from top-level definitions (1/3)\r[toplevel-info] "
     ]
    },
    {
     "name": "stdout",
     "output_type": "stream",
     "text": [
      "analyzing from top-level definitions (2/3)\r[toplevel-info] analyzing from top-level definitions (3/3)\n",
      "[toplevel-info] analyzed 3 top-level definitions (took 0.024 sec)\n"
     ]
    },
    {
     "data": {
      "text/plain": [
       "\u001b[7m═════ 2 possible errors found ═════\u001b[27m\n",
       "\u001b[35m┌ \u001b[39m\u001b[0m\u001b[1mcallsum3\u001b[22m\u001b[0m\u001b[1m(\u001b[22m\u001b[90ma\u001b[39m::\u001b[0mString\u001b[0m\u001b[1m)\u001b[22m \u001b[35m@ \u001b[39m\u001b[35mDemo1\u001b[39m\u001b[35m /Users/aviatesk/julia/JET-20230703/Demo1/src/Demo1.jl:7\u001b[39m\n",
       "\u001b[35m│\u001b[39m\u001b[34m┌ \u001b[39m\u001b[0m\u001b[1msum\u001b[22m\u001b[0m\u001b[1m(\u001b[22m\u001b[90ma\u001b[39m::\u001b[0mString\u001b[0m\u001b[1m)\u001b[22m \u001b[34m@ \u001b[39m\u001b[34mBase\u001b[39m\u001b[34m ./reduce.jl:559\u001b[39m\n",
       "\u001b[35m│\u001b[39m\u001b[34m│\u001b[39m\u001b[33m┌ \u001b[39m\u001b[0m\u001b[1msum\u001b[22m\u001b[0m\u001b[1m(\u001b[22m\u001b[90ma\u001b[39m::\u001b[0mString; \u001b[90mkw\u001b[39m::\u001b[0mBase.Pairs\u001b[90m{Symbol, Union{}, Tuple{}, NamedTuple{(), Tuple{}}}\u001b[39m\u001b[0m\u001b[1m)\u001b[22m \u001b[33m@ \u001b[39m\u001b[33mBase\u001b[39m\u001b[33m ./reduce.jl:559\u001b[39m\n",
       "\u001b[35m│\u001b[39m\u001b[34m│\u001b[39m\u001b[33m│\u001b[39m\u001b[32m┌ \u001b[39m\u001b[0m\u001b[1msum\u001b[22m\u001b[0m\u001b[1m(\u001b[22m\u001b[90mf\u001b[39m::\u001b[0mtypeof(identity), \u001b[90ma\u001b[39m::\u001b[0mString\u001b[0m\u001b[1m)\u001b[22m \u001b[32m@ \u001b[39m\u001b[32mBase\u001b[39m\u001b[32m ./reduce.jl:530\u001b[39m\n",
       "\u001b[35m│\u001b[39m\u001b[34m│\u001b[39m\u001b[33m│\u001b[39m\u001b[32m│\u001b[39m\u001b[35m┌ \u001b[39m\u001b[0m\u001b[1msum\u001b[22m\u001b[0m\u001b[1m(\u001b[22m\u001b[90mf\u001b[39m::\u001b[0mtypeof(identity), \u001b[90ma\u001b[39m::\u001b[0mString; \u001b[90mkw\u001b[39m::\u001b[0mBase.Pairs\u001b[90m{Symbol, Union{}, Tuple{}, NamedTuple{(), Tuple{}}}\u001b[39m\u001b[0m\u001b[1m)\u001b[22m \u001b[35m@ \u001b[39m\u001b[35mBase\u001b[39m\u001b[35m ./reduce.jl:530\u001b[39m\n",
       "\u001b[35m│\u001b[39m\u001b[34m│\u001b[39m\u001b[33m│\u001b[39m\u001b[32m│\u001b[39m\u001b[35m│\u001b[39m\u001b[34m┌ \u001b[39m\u001b[0m\u001b[1mmapreduce\u001b[22m\u001b[0m\u001b[1m(\u001b[22m\u001b[90mf\u001b[39m::\u001b[0mtypeof(identity), \u001b[90mop\u001b[39m::\u001b[0mtypeof(Base.add_sum), \u001b[90mitr\u001b[39m::\u001b[0mString\u001b[0m\u001b[1m)\u001b[22m \u001b[34m@ \u001b[39m\u001b[34mBase\u001b[39m\u001b[34m ./reduce.jl:302\u001b[39m\n",
       "\u001b[35m│\u001b[39m\u001b[34m│\u001b[39m\u001b[33m│\u001b[39m\u001b[32m│\u001b[39m\u001b[35m│\u001b[39m\u001b[34m│\u001b[39m\u001b[33m┌ \u001b[39m\u001b[0m\u001b[1mmapreduce\u001b[22m\u001b[0m\u001b[1m(\u001b[22m\u001b[90mf\u001b[39m::\u001b[0mtypeof(identity), \u001b[90mop\u001b[39m::\u001b[0mtypeof(Base.add_sum), \u001b[90mitr\u001b[39m::\u001b[0mString; \u001b[90mkw\u001b[39m::\u001b[0mBase.Pairs\u001b[90m{Symbol, Union{}, Tuple{}, NamedTuple{(), Tuple{}}}\u001b[39m\u001b[0m\u001b[1m)\u001b[22m \u001b[33m@ \u001b[39m\u001b[33mBase\u001b[39m\u001b[33m ./reduce.jl:302\u001b[39m\n",
       "\u001b[35m│\u001b[39m\u001b[34m│\u001b[39m\u001b[33m│\u001b[39m\u001b[32m│\u001b[39m\u001b[35m│\u001b[39m\u001b[34m│\u001b[39m\u001b[33m│\u001b[39m\u001b[32m┌ \u001b[39m\u001b[0m\u001b[1mmapfoldl\u001b[22m\u001b[0m\u001b[1m(\u001b[22m\u001b[90mf\u001b[39m::\u001b[0mtypeof(identity), \u001b[90mop\u001b[39m::\u001b[0mtypeof(Base.add_sum), \u001b[90mitr\u001b[39m::\u001b[0mString\u001b[0m\u001b[1m)\u001b[22m \u001b[32m@ \u001b[39m\u001b[32mBase\u001b[39m\u001b[32m ./reduce.jl:170\u001b[39m\n",
       "\u001b[35m│\u001b[39m\u001b[34m│\u001b[39m\u001b[33m│\u001b[39m\u001b[32m│\u001b[39m\u001b[35m│\u001b[39m\u001b[34m│\u001b[39m\u001b[33m│\u001b[39m\u001b[32m│\u001b[39m\u001b[35m┌ \u001b[39m\u001b[0m\u001b[1mmapfoldl\u001b[22m\u001b[0m\u001b[1m(\u001b[22m\u001b[90mf\u001b[39m::\u001b[0mtypeof(identity), \u001b[90mop\u001b[39m::\u001b[0mtypeof(Base.add_sum), \u001b[90mitr\u001b[39m::\u001b[0mString; \u001b[90minit\u001b[39m::\u001b[0mBase._InitialValue\u001b[0m\u001b[1m)\u001b[22m \u001b[35m@ \u001b[39m\u001b[35mBase\u001b[39m\u001b[35m ./reduce.jl:170\u001b[39m\n",
       "\u001b[35m│\u001b[39m\u001b[34m│\u001b[39m\u001b[33m│\u001b[39m\u001b[32m│\u001b[39m\u001b[35m│\u001b[39m\u001b[34m│\u001b[39m\u001b[33m│\u001b[39m\u001b[32m│\u001b[39m\u001b[35m│\u001b[39m\u001b[34m┌ \u001b[39m\u001b[0m\u001b[1mmapfoldl_impl\u001b[22m\u001b[0m\u001b[1m(\u001b[22m\u001b[90mf\u001b[39m::\u001b[0mtypeof(identity), \u001b[90mop\u001b[39m::\u001b[0mtypeof(Base.add_sum), \u001b[90mnt\u001b[39m::\u001b[0mBase._InitialValue, \u001b[90mitr\u001b[39m::\u001b[0mString\u001b[0m\u001b[1m)\u001b[22m \u001b[34m@ \u001b[39m\u001b[34mBase\u001b[39m\u001b[34m ./reduce.jl:44\u001b[39m\n",
       "\u001b[35m│\u001b[39m\u001b[34m│\u001b[39m\u001b[33m│\u001b[39m\u001b[32m│\u001b[39m\u001b[35m│\u001b[39m\u001b[34m│\u001b[39m\u001b[33m│\u001b[39m\u001b[32m│\u001b[39m\u001b[35m│\u001b[39m\u001b[34m│\u001b[39m\u001b[33m┌ \u001b[39m\u001b[0m\u001b[1mfoldl_impl\u001b[22m\u001b[0m\u001b[1m(\u001b[22m\u001b[90mop\u001b[39m::\u001b[0mBase.BottomRF\u001b[90m{typeof(Base.add_sum)}\u001b[39m, \u001b[90mnt\u001b[39m::\u001b[0mBase._InitialValue, \u001b[90mitr\u001b[39m::\u001b[0mString\u001b[0m\u001b[1m)\u001b[22m \u001b[33m@ \u001b[39m\u001b[33mBase\u001b[39m\u001b[33m ./reduce.jl:48\u001b[39m\n",
       "\u001b[35m│\u001b[39m\u001b[34m│\u001b[39m\u001b[33m│\u001b[39m\u001b[32m│\u001b[39m\u001b[35m│\u001b[39m\u001b[34m│\u001b[39m\u001b[33m│\u001b[39m\u001b[32m│\u001b[39m\u001b[35m│\u001b[39m\u001b[34m│\u001b[39m\u001b[33m│\u001b[39m\u001b[32m┌ \u001b[39m\u001b[0m\u001b[1m_foldl_impl\u001b[22m\u001b[0m\u001b[1m(\u001b[22m\u001b[90mop\u001b[39m::\u001b[0mBase.BottomRF\u001b[90m{typeof(Base.add_sum)}\u001b[39m, \u001b[90minit\u001b[39m::\u001b[0mBase._InitialValue, \u001b[90mitr\u001b[39m::\u001b[0mString\u001b[0m\u001b[1m)\u001b[22m \u001b[32m@ \u001b[39m\u001b[32mBase\u001b[39m\u001b[32m ./reduce.jl:62\u001b[39m\n",
       "\u001b[35m│\u001b[39m\u001b[34m│\u001b[39m\u001b[33m│\u001b[39m\u001b[32m│\u001b[39m\u001b[35m│\u001b[39m\u001b[34m│\u001b[39m\u001b[33m│\u001b[39m\u001b[32m│\u001b[39m\u001b[35m│\u001b[39m\u001b[34m│\u001b[39m\u001b[33m│\u001b[39m\u001b[32m│\u001b[39m\u001b[35m┌ \u001b[39m\u001b[0m\u001b[1m(::Base.BottomRF{typeof(Base.add_sum)})\u001b[22m\u001b[0m\u001b[1m(\u001b[22m\u001b[90macc\u001b[39m::\u001b[0mChar, \u001b[90mx\u001b[39m::\u001b[0mChar\u001b[0m\u001b[1m)\u001b[22m \u001b[35m@ \u001b[39m\u001b[35mBase\u001b[39m\u001b[35m ./reduce.jl:81\u001b[39m\n",
       "\u001b[35m│\u001b[39m\u001b[34m│\u001b[39m\u001b[33m│\u001b[39m\u001b[32m│\u001b[39m\u001b[35m│\u001b[39m\u001b[34m│\u001b[39m\u001b[33m│\u001b[39m\u001b[32m│\u001b[39m\u001b[35m│\u001b[39m\u001b[34m│\u001b[39m\u001b[33m│\u001b[39m\u001b[32m│\u001b[39m\u001b[35m│\u001b[39m\u001b[91m┌ \u001b[39m\u001b[0m\u001b[1madd_sum\u001b[22m\u001b[0m\u001b[1m(\u001b[22m\u001b[90mx\u001b[39m::\u001b[0mChar, \u001b[90my\u001b[39m::\u001b[0mChar\u001b[0m\u001b[1m)\u001b[22m \u001b[91m@ \u001b[39m\u001b[91mBase\u001b[39m\u001b[91m ./reduce.jl:24\u001b[39m\n",
       "\u001b[35m│\u001b[39m\u001b[34m│\u001b[39m\u001b[33m│\u001b[39m\u001b[32m│\u001b[39m\u001b[35m│\u001b[39m\u001b[34m│\u001b[39m\u001b[33m│\u001b[39m\u001b[32m│\u001b[39m\u001b[35m│\u001b[39m\u001b[34m│\u001b[39m\u001b[33m│\u001b[39m\u001b[32m│\u001b[39m\u001b[35m│\u001b[39m\u001b[91m│ \u001b[39m\u001b[91mno matching method found `+(::Char, ::Char)`\u001b[39m\u001b[91m: \u001b[39m\u001b[0m\u001b[1m(\u001b[22m\u001b[0m\u001b[1mx\u001b[22m\u001b[96m\u001b[1m::Char\u001b[22m\u001b[39m\u001b[0m\u001b[1m \u001b[22m\u001b[0m\u001b[1m+\u001b[22m\u001b[0m\u001b[1m \u001b[22m\u001b[0m\u001b[1my\u001b[22m\u001b[96m\u001b[1m::Char\u001b[22m\u001b[39m\u001b[0m\u001b[1m)\u001b[22m\n",
       "\u001b[35m│\u001b[39m\u001b[34m│\u001b[39m\u001b[33m│\u001b[39m\u001b[32m│\u001b[39m\u001b[35m│\u001b[39m\u001b[34m│\u001b[39m\u001b[33m│\u001b[39m\u001b[32m│\u001b[39m\u001b[35m│\u001b[39m\u001b[34m│\u001b[39m\u001b[33m│\u001b[39m\u001b[32m│\u001b[39m\u001b[35m│\u001b[39m\u001b[91m└────────────────────\u001b[39m\n",
       "\u001b[35m│\u001b[39m\u001b[34m│\u001b[39m\u001b[33m│\u001b[39m\u001b[32m│\u001b[39m\u001b[35m│\u001b[39m\u001b[34m│\u001b[39m\u001b[33m│\u001b[39m\u001b[32m│\u001b[39m\u001b[35m│\u001b[39m\u001b[34m│\u001b[39m\u001b[33m┌ \u001b[39m\u001b[0m\u001b[1mfoldl_impl\u001b[22m\u001b[0m\u001b[1m(\u001b[22m\u001b[90mop\u001b[39m::\u001b[0mBase.BottomRF\u001b[90m{typeof(Base.add_sum)}\u001b[39m, \u001b[90mnt\u001b[39m::\u001b[0mBase._InitialValue, \u001b[90mitr\u001b[39m::\u001b[0mString\u001b[0m\u001b[1m)\u001b[22m \u001b[33m@ \u001b[39m\u001b[33mBase\u001b[39m\u001b[33m ./reduce.jl:49\u001b[39m\n",
       "\u001b[35m│\u001b[39m\u001b[34m│\u001b[39m\u001b[33m│\u001b[39m\u001b[32m│\u001b[39m\u001b[35m│\u001b[39m\u001b[34m│\u001b[39m\u001b[33m│\u001b[39m\u001b[32m│\u001b[39m\u001b[35m│\u001b[39m\u001b[34m│\u001b[39m\u001b[33m│\u001b[39m\u001b[32m┌ \u001b[39m\u001b[0m\u001b[1mreduce_empty_iter\u001b[22m\u001b[0m\u001b[1m(\u001b[22m\u001b[90mop\u001b[39m::\u001b[0mBase.BottomRF\u001b[90m{typeof(Base.add_sum)}\u001b[39m, \u001b[90mitr\u001b[39m::\u001b[0mString\u001b[0m\u001b[1m)\u001b[22m \u001b[32m@ \u001b[39m\u001b[32mBase\u001b[39m\u001b[32m ./reduce.jl:378\u001b[39m\n",
       "\u001b[35m│\u001b[39m\u001b[34m│\u001b[39m\u001b[33m│\u001b[39m\u001b[32m│\u001b[39m\u001b[35m│\u001b[39m\u001b[34m│\u001b[39m\u001b[33m│\u001b[39m\u001b[32m│\u001b[39m\u001b[35m│\u001b[39m\u001b[34m│\u001b[39m\u001b[33m│\u001b[39m\u001b[32m│\u001b[39m\u001b[35m┌ \u001b[39m\u001b[0m\u001b[1mreduce_empty_iter\u001b[22m\u001b[0m\u001b[1m(\u001b[22m\u001b[90mop\u001b[39m::\u001b[0mBase.BottomRF\u001b[90m{typeof(Base.add_sum)}\u001b[39m, \u001b[90mitr\u001b[39m::\u001b[0mString, ::\u001b[0mBase.HasEltype\u001b[0m\u001b[1m)\u001b[22m \u001b[35m@ \u001b[39m\u001b[35mBase\u001b[39m\u001b[35m ./reduce.jl:379\u001b[39m\n",
       "\u001b[35m│\u001b[39m\u001b[34m│\u001b[39m\u001b[33m│\u001b[39m\u001b[32m│\u001b[39m\u001b[35m│\u001b[39m\u001b[34m│\u001b[39m\u001b[33m│\u001b[39m\u001b[32m│\u001b[39m\u001b[35m│\u001b[39m\u001b[34m│\u001b[39m\u001b[33m│\u001b[39m\u001b[32m│\u001b[39m\u001b[35m│\u001b[39m\u001b[34m┌ \u001b[39m\u001b[0m\u001b[1mreduce_empty\u001b[22m\u001b[0m\u001b[1m(\u001b[22m\u001b[90mop\u001b[39m::\u001b[0mBase.BottomRF\u001b[90m{typeof(Base.add_sum)}\u001b[39m, ::\u001b[0mType\u001b[90m{Char}\u001b[39m\u001b[0m\u001b[1m)\u001b[22m \u001b[34m@ \u001b[39m\u001b[34mBase\u001b[39m\u001b[34m ./reduce.jl:355\u001b[39m\n",
       "\u001b[35m│\u001b[39m\u001b[34m│\u001b[39m\u001b[33m│\u001b[39m\u001b[32m│\u001b[39m\u001b[35m│\u001b[39m\u001b[34m│\u001b[39m\u001b[33m│\u001b[39m\u001b[32m│\u001b[39m\u001b[35m│\u001b[39m\u001b[34m│\u001b[39m\u001b[33m│\u001b[39m\u001b[32m│\u001b[39m\u001b[35m│\u001b[39m\u001b[34m│\u001b[39m\u001b[33m┌ \u001b[39m\u001b[0m\u001b[1mreduce_empty\u001b[22m\u001b[0m\u001b[1m(\u001b[22m::\u001b[0mtypeof(Base.add_sum), ::\u001b[0mType\u001b[90m{Char}\u001b[39m\u001b[0m\u001b[1m)\u001b[22m \u001b[33m@ \u001b[39m\u001b[33mBase\u001b[39m\u001b[33m ./reduce.jl:347\u001b[39m\n",
       "\u001b[35m│\u001b[39m\u001b[34m│\u001b[39m\u001b[33m│\u001b[39m\u001b[32m│\u001b[39m\u001b[35m│\u001b[39m\u001b[34m│\u001b[39m\u001b[33m│\u001b[39m\u001b[32m│\u001b[39m\u001b[35m│\u001b[39m\u001b[34m│\u001b[39m\u001b[33m│\u001b[39m\u001b[32m│\u001b[39m\u001b[35m│\u001b[39m\u001b[34m│\u001b[39m\u001b[33m│\u001b[39m\u001b[91m┌ \u001b[39m\u001b[0m\u001b[1mreduce_empty\u001b[22m\u001b[0m\u001b[1m(\u001b[22m::\u001b[0mtypeof(+), ::\u001b[0mType\u001b[90m{Char}\u001b[39m\u001b[0m\u001b[1m)\u001b[22m \u001b[91m@ \u001b[39m\u001b[91mBase\u001b[39m\u001b[91m ./reduce.jl:338\u001b[39m\n",
       "\u001b[35m│\u001b[39m\u001b[34m│\u001b[39m\u001b[33m│\u001b[39m\u001b[32m│\u001b[39m\u001b[35m│\u001b[39m\u001b[34m│\u001b[39m\u001b[33m│\u001b[39m\u001b[32m│\u001b[39m\u001b[35m│\u001b[39m\u001b[34m│\u001b[39m\u001b[33m│\u001b[39m\u001b[32m│\u001b[39m\u001b[35m│\u001b[39m\u001b[34m│\u001b[39m\u001b[33m│\u001b[39m\u001b[91m│ \u001b[39m\u001b[91mno matching method found `zero(::Type{Char})`\u001b[39m\u001b[91m: \u001b[39m\u001b[0m\u001b[1mzero\u001b[22m\u001b[0m\u001b[1m(\u001b[22m\u001b[0m\u001b[1mT\u001b[22m\u001b[96m\u001b[1m::Type{Char}\u001b[22m\u001b[39m\u001b[0m\u001b[1m)\u001b[22m\n",
       "\u001b[35m│\u001b[39m\u001b[34m│\u001b[39m\u001b[33m│\u001b[39m\u001b[32m│\u001b[39m\u001b[35m│\u001b[39m\u001b[34m│\u001b[39m\u001b[33m│\u001b[39m\u001b[32m│\u001b[39m\u001b[35m│\u001b[39m\u001b[34m│\u001b[39m\u001b[33m│\u001b[39m\u001b[32m│\u001b[39m\u001b[35m│\u001b[39m\u001b[34m│\u001b[39m\u001b[33m│\u001b[39m\u001b[91m└────────────────────\u001b[39m\n"
      ]
     },
     "metadata": {},
     "output_type": "display_data"
    }
   ],
   "source": [
    "report_package(\"Demo1\")"
   ]
  },
  {
   "cell_type": "code",
   "execution_count": 15,
   "metadata": {},
   "outputs": [],
   "source": [
    "report_package(\"AbstractTrees\"; mode=:typo)"
   ]
  },
  {
   "attachments": {},
   "cell_type": "markdown",
   "metadata": {},
   "source": [
    "**WARNING**:\n",
    "\n",
    "`report_package(YourPkg::Module; target_defined_modules=true)` does not work as expected.\n",
    "Use `report_package(\"YourPkg\"::String; target_defined_modules=true)` instead."
   ]
  }
 ],
 "metadata": {
  "kernelspec": {
   "display_name": "Julia 1.9.1",
   "language": "julia",
   "name": "julia-1.9"
  },
  "language_info": {
   "file_extension": ".jl",
   "mimetype": "application/julia",
   "name": "julia",
   "version": "1.9.1"
  },
  "orig_nbformat": 4
 },
 "nbformat": 4,
 "nbformat_minor": 2
}
