{
 "cells": [
  {
   "cell_type": "code",
   "execution_count": null,
   "metadata": {},
   "outputs": [],
   "source": [
    "using InteractiveUtils, Pkg, Test\n",
    "\n",
    "Base.banner()\n",
    "\n",
    "Pkg.activate(@__DIR__)\n",
    "Pkg.status()\n",
    "\n",
    "using JET"
   ]
  },
  {
   "attachments": {},
   "cell_type": "markdown",
   "metadata": {},
   "source": [
    "# Basic Usage\n",
    "\n",
    "- Interactive entry point: `[@]report_call`, `[@]report_opt`\n",
    "  - `report_call` for detecting bugs\n",
    "  - `report_opt` for detecting performance problems\n",
    "- Works like `[@]code_typed`"
   ]
  },
  {
   "cell_type": "code",
   "execution_count": null,
   "metadata": {},
   "outputs": [],
   "source": [
    "report_call(sum, (Vector{Int},))"
   ]
  },
  {
   "cell_type": "code",
   "execution_count": null,
   "metadata": {},
   "outputs": [],
   "source": [
    "@report_call sum(\"julia\")"
   ]
  },
  {
   "attachments": {},
   "cell_type": "markdown",
   "metadata": {},
   "source": [
    "# Notable features for package development\n",
    "\n",
    "- Test.jl integration\n",
    "- `report_package`\n",
    "- The typo detection mode\n",
    "- Report filters"
   ]
  },
  {
   "attachments": {},
   "cell_type": "markdown",
   "metadata": {},
   "source": [
    "# Test.jl integration\n",
    "\n",
    "JET provides smooth integration with Test.jl:\n",
    "- Allows users to use JET in their test suite\n",
    "  - `[@]report_call`, `[@]report_opt` <-> `[@]test_call`, `[@]test_opt`\n",
    "  - `report_package`, `report_file` <-> `test_package`, `test_file`\n",
    "- Results are included in a test set summary\n",
    "- Also supports Test.jl features like `broken` and `skip`"
   ]
  },
  {
   "cell_type": "code",
   "execution_count": null,
   "metadata": {},
   "outputs": [],
   "source": [
    "function test_func(a)\n",
    "    return a + 1\n",
    "end\n",
    "\n",
    "@test_call test_func(\"julia\")"
   ]
  },
  {
   "cell_type": "code",
   "execution_count": null,
   "metadata": {},
   "outputs": [],
   "source": [
    "@testset \"JET code quality test\" begin\n",
    "    @test_call test_func(\"julia\")\n",
    "    @test_call test_func(1)\n",
    "end"
   ]
  },
  {
   "cell_type": "code",
   "execution_count": null,
   "metadata": {},
   "outputs": [],
   "source": [
    "@testset \"JET code quality test\" begin\n",
    "    @test_call skip=true test_func(\"julia\")\n",
    "    @test_call test_func(1)\n",
    "end"
   ]
  },
  {
   "attachments": {},
   "cell_type": "markdown",
   "metadata": {},
   "source": [
    "Packages using JET in their CI in this way: \n",
    "- JET: <https://github.com/aviatesk/JET.jl/blob/master/test/self_check.jl>\n",
    "- CliMA ecosystem"
   ]
  },
  {
   "attachments": {},
   "cell_type": "markdown",
   "metadata": {},
   "source": [
    "# `report_package`\n",
    "\n",
    "`report_package` is an easy entry point to analyze package code.\n",
    "\n",
    "- Interactive entry points (`report_call`)\n",
    "  - Bad: Require programmers to give concrete input types\n",
    "  - Good: More accurate\n",
    "- `report_package`: Use method signatures as analysis entry point\n",
    "  - Good: Easy to use\n",
    "  - Bad: Less accurate\n",
    "\n",
    "Ideally package test suite should use the interactive entry points if possible.\n",
    "`report_package` is still useful for a first inspection, etc."
   ]
  },
  {
   "attachments": {},
   "cell_type": "markdown",
   "metadata": {},
   "source": [
    "Improved affinity with Pkg.jl system: \n",
    "\n",
    "No need to instantiate/activate a target package environment beforehand.\n",
    "Just install it, and give its name to `report_package`."
   ]
  },
  {
   "cell_type": "code",
   "execution_count": null,
   "metadata": {},
   "outputs": [],
   "source": [
    "report_package(\"Demo1\")"
   ]
  },
  {
   "cell_type": "code",
   "execution_count": null,
   "metadata": {},
   "outputs": [],
   "source": [
    "# comparison with interactive entry points\n",
    "using Demo1\n",
    "\n",
    "# @report_call callsum2(\"julia\")\n",
    "@report_call callsum3(\"julia\")"
   ]
  },
  {
   "attachments": {},
   "cell_type": "markdown",
   "metadata": {},
   "source": [
    "`target_defined_modules` configuration: \n",
    "- Only report problems that are detected within the module context of a target package.\n",
    "- Allows you to focus on your code."
   ]
  },
  {
   "cell_type": "code",
   "execution_count": null,
   "metadata": {},
   "outputs": [],
   "source": [
    "# TODO-1 use `target_defined_modules=true` and filter out errors from `Core.Compiler`\n",
    "# TODO-2 put the configuration into a configuration file\n",
    "\n",
    "report_package(\"Demo2\")"
   ]
  },
  {
   "attachments": {},
   "cell_type": "markdown",
   "metadata": {},
   "source": [
    "# Configurations\n",
    "\n",
    "- Sometimes JET produces very noisy results. `mode=:typo` only detects typos, so can be useful as a first step to improve your code.\n",
    "- `JET.configured_reports` can be used to implement your own report filter."
   ]
  },
  {
   "cell_type": "code",
   "execution_count": null,
   "metadata": {},
   "outputs": [],
   "source": [
    "report_package(\"JuliaHub\"; toplevel_logger=nothing)"
   ]
  },
  {
   "cell_type": "code",
   "execution_count": null,
   "metadata": {},
   "outputs": [],
   "source": [
    "report_package(\"JuliaHub\"; mode=:typo, toplevel_logger=nothing)"
   ]
  },
  {
   "cell_type": "code",
   "execution_count": null,
   "metadata": {},
   "outputs": [],
   "source": [
    "result = report_package(\"JuliaHub\"; target_defined_modules=true, toplevel_logger=nothing)"
   ]
  },
  {
   "cell_type": "code",
   "execution_count": null,
   "metadata": {},
   "outputs": [],
   "source": [
    "reports = JET.get_reports(result)"
   ]
  },
  {
   "cell_type": "code",
   "execution_count": null,
   "metadata": {},
   "outputs": [],
   "source": [
    "unique(typeof.(reports))"
   ]
  },
  {
   "cell_type": "code",
   "execution_count": null,
   "metadata": {},
   "outputs": [],
   "source": [
    "reports[end].vst[end].linfo.def.module"
   ]
  },
  {
   "cell_type": "code",
   "execution_count": null,
   "metadata": {},
   "outputs": [],
   "source": [
    "reports[end].t"
   ]
  },
  {
   "cell_type": "code",
   "execution_count": null,
   "metadata": {},
   "outputs": [],
   "source": [
    "struct MyFilter end\n",
    "function JET.configured_reports(::MyFilter, reports::Vector{JET.InferenceErrorReport})\n",
    "    filter(reports) do report\n",
    "        # XXX this is necessary since a custom `report_config` overrides `target_defined_modules` setting.\n",
    "        occursin(\"JuliaHub\", string(last(report.vst).linfo.def.module)) || return false\n",
    "\n",
    "        isa(report, JET.MethodErrorReport) || return false\n",
    "        report.t isa DataType || return false\n",
    "        any(==(Nothing), report.t.parameters) && return false\n",
    "        return true\n",
    "    end\n",
    "end\n",
    "\n",
    "result = report_package(\"JuliaHub\"; \n",
    "                        report_config=MyFilter(), \n",
    "                        toplevel_logger=nothing)"
   ]
  }
 ],
 "metadata": {
  "kernelspec": {
   "display_name": "Julia 1.9.1",
   "language": "julia",
   "name": "julia-1.9"
  },
  "language_info": {
   "file_extension": ".jl",
   "mimetype": "application/julia",
   "name": "julia",
   "version": "1.9.1"
  },
  "orig_nbformat": 4
 },
 "nbformat": 4,
 "nbformat_minor": 2
}
